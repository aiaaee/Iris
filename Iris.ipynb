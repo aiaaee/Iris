{
  "nbformat": 4,
  "nbformat_minor": 0,
  "metadata": {
    "colab": {
      "provenance": [],
      "authorship_tag": "ABX9TyNzqofxh7lI2k3U/HMxX02A",
      "include_colab_link": true
    },
    "kernelspec": {
      "name": "python3",
      "display_name": "Python 3"
    },
    "language_info": {
      "name": "python"
    }
  },
  "cells": [
    {
      "cell_type": "markdown",
      "metadata": {
        "id": "view-in-github",
        "colab_type": "text"
      },
      "source": [
        "<a href=\"https://colab.research.google.com/github/aiaaee/Iris/blob/main/Iris.ipynb\" target=\"_parent\"><img src=\"https://colab.research.google.com/assets/colab-badge.svg\" alt=\"Open In Colab\"/></a>"
      ]
    },
    {
      "cell_type": "code",
      "source": [
        "import pandas as pd\n",
        "import numpy as np\n",
        "import matplotlib.pyplot as plt\n",
        "import sklearn\n",
        "from sklearn import datasets\n",
        "from sklearn.model_selection import train_test_split\n",
        "from sklearn.preprocessing import StandardScaler\n",
        "import torch.nn as nn\n",
        "from torch.utils.data import Dataset , DataLoader\n",
        "import torch\n",
        "from torchvision import transforms\n",
        "import torch.nn.functional as F\n",
        "from tqdm import tqdm\n",
        "import torch.optim  as optim"
      ],
      "metadata": {
        "id": "Kwz8kxoAOctj"
      },
      "execution_count": null,
      "outputs": []
    },
    {
      "cell_type": "code",
      "execution_count": null,
      "metadata": {
        "id": "Hw-l-_VUOFod"
      },
      "outputs": [],
      "source": [
        "iris = datasets.load_iris()\n",
        "\n",
        "\n",
        "X = iris.data\n",
        "y = iris.target"
      ]
    },
    {
      "cell_type": "code",
      "source": [
        "X_train , X_test , y_train , y_test = train_test_split(X , y , test_size=0.2 , random_state=42 , shuffle=True)"
      ],
      "metadata": {
        "id": "BohCs0XgOrPC"
      },
      "execution_count": null,
      "outputs": []
    },
    {
      "cell_type": "code",
      "source": [
        "scaler = StandardScaler()\n",
        "X_train = scaler.fit_transform(X_train)\n",
        "X_test = scaler.transform(X_test)\n"
      ],
      "metadata": {
        "id": "9zVPeEjlO2Bl"
      },
      "execution_count": null,
      "outputs": []
    },
    {
      "cell_type": "code",
      "source": [
        "class irisDataset(Dataset):\n",
        "  def __init__(self , data , target , dataTransform=None , targetTransform=None):\n",
        "    super().__init__()\n",
        "    self.data = data\n",
        "    self.target = target\n",
        "    self.dataTransform = dataTransform\n",
        "    self.targetTransform = targetTransform\n",
        "  def __len__(self) :\n",
        "    return len(self.data)\n",
        "  def __getitem__(self , index):\n",
        "    x = self.data[index]\n",
        "    y = self.target[index]\n",
        "    if(self.dataTransform) :\n",
        "      x = self.dataTransform(x)\n",
        "    if(self.targetTransform):\n",
        "      y = self.dataTransform(y)\n",
        "\n",
        "    return x , y"
      ],
      "metadata": {
        "id": "LYS1Xhg5P0uG"
      },
      "execution_count": null,
      "outputs": []
    },
    {
      "cell_type": "code",
      "source": [
        "train_dataset = irisDataset(X_train , y_train , dataTransform=transforms.Lambda(lambda x: torch.tensor(x, dtype=torch.float32)) , targetTransform=transforms.Lambda(lambda x: torch.tensor(x, dtype=torch.float32).unsqueeze(0)))\n",
        "test_dataset = irisDataset(X_test , y_test , dataTransform=transforms.Lambda(lambda x: torch.tensor(x, dtype=torch.float32)) , targetTransform=transforms.Lambda(lambda x: torch.tensor(x, dtype=torch.float32).unsqueeze(0)))\n",
        "\n",
        "train_loader = DataLoader(train_dataset , shuffle=True , batch_size=32)\n",
        "test_loader = DataLoader(test_dataset , shuffle=False , batch_size=32)"
      ],
      "metadata": {
        "id": "OYPdmds5Rrn_"
      },
      "execution_count": null,
      "outputs": []
    },
    {
      "cell_type": "code",
      "source": [
        "train_dataset"
      ],
      "metadata": {
        "colab": {
          "base_uri": "https://localhost:8080/"
        },
        "id": "8HgeDCOnUQnm",
        "outputId": "12310c58-f811-4cd1-f35a-9bbc20cea1bd"
      },
      "execution_count": null,
      "outputs": [
        {
          "output_type": "execute_result",
          "data": {
            "text/plain": [
              "<__main__.irisDataset at 0x7a7caab877f0>"
            ]
          },
          "metadata": {},
          "execution_count": 13
        }
      ]
    },
    {
      "cell_type": "code",
      "source": [
        "for i , y in train_loader:\n",
        "  print(i.size())\n",
        "  break"
      ],
      "metadata": {
        "colab": {
          "base_uri": "https://localhost:8080/"
        },
        "id": "n5prVrKHRyYC",
        "outputId": "8d1842de-c956-464f-9c99-2bd301d26e7c"
      },
      "execution_count": null,
      "outputs": [
        {
          "output_type": "stream",
          "name": "stdout",
          "text": [
            "torch.Size([32, 4])\n"
          ]
        }
      ]
    },
    {
      "cell_type": "code",
      "source": [
        "class NN(nn.Module):\n",
        "  def __init__(self , input_layer=int , output_layer=int , *args , **kwargs):\n",
        "    super().__init__(*args , **kwargs)\n",
        "    self.flatten = nn.Flatten()\n",
        "    self.l1 = nn.Linear(input_layer , 300)\n",
        "    self.l2 = nn.Linear(300, 600)\n",
        "    self.l3 = nn.Linear(600 , output_layer)\n",
        "\n",
        "  def forward(self , x ):\n",
        "    x = self.flatten(x)\n",
        "    x = F.relu(self.l1(x))\n",
        "    x = F.relu(self.l2(x))\n",
        "    x = F.relu(self.l3(x))\n",
        "\n",
        "    return x"
      ],
      "metadata": {
        "id": "vZEqmQw5Tcut"
      },
      "execution_count": null,
      "outputs": []
    },
    {
      "cell_type": "code",
      "source": [
        "# x = torch.rand(32 , 4)\n",
        "\n",
        "model = NN(4 , 1)\n",
        "# model(x).size()\n",
        "\n",
        "optimizer = optim.Adam(model.parameters(), lr=1e-3)\n",
        "criterion = nn.MSELoss()\n"
      ],
      "metadata": {
        "id": "tMvBvdoLUoQb"
      },
      "execution_count": null,
      "outputs": []
    },
    {
      "cell_type": "code",
      "source": [
        "train_history = []\n",
        "validation_history = []\n",
        "num_epochs = 30\n",
        "for epoch in range(num_epochs):\n",
        "\n",
        "    model.train()\n",
        "    losses = []\n",
        "\n",
        "    with tqdm(train_loader, leave=False) as bar:\n",
        "        bar.set_description(f\"[Epoch: {epoch + 1}/{num_epochs}]\")\n",
        "\n",
        "        for batch_idx, (data, target) in enumerate(bar):\n",
        "\n",
        "            data = data\n",
        "            target = target\n",
        "\n",
        "            output = model(data)\n",
        "\n",
        "            loss = criterion(output, target)\n",
        "\n",
        "            optimizer.zero_grad()\n",
        "            loss.backward()\n",
        "            optimizer.step()\n",
        "\n",
        "            losses.append(loss.item())\n",
        "            bar.set_postfix(avg_epoch_loss=f\"{sum(losses)/len(losses):.4f}\")\n",
        "    train_history.append(sum(losses)/len(losses))\n",
        "\n",
        "    model.eval()\n",
        "    running_testloss = 0.0\n",
        "\n",
        "    with torch.no_grad():\n",
        "        for i, (test_data, test_label) in enumerate(test_loader):\n",
        "            test_output = model(test_data)\n",
        "            vloss = criterion(test_output, test_label)\n",
        "            running_testloss += vloss.item()\n",
        "        avg_vloss = running_testloss / (i + 1)\n",
        "        validation_history.append(avg_vloss)\n",
        "        if epoch % 10 == 9:\n",
        "            print(f'Epoch [{epoch + 1}/{num_epochs}]: loss train: {sum(losses)/len(losses):.3f}, validation: {avg_vloss:.3f}')\n"
      ],
      "metadata": {
        "colab": {
          "base_uri": "https://localhost:8080/"
        },
        "id": "cK4F3X49tKPf",
        "outputId": "12cec8ef-b59a-4d26-a4d9-dc2bd57ffa17"
      },
      "execution_count": null,
      "outputs": [
        {
          "output_type": "stream",
          "name": "stderr",
          "text": [
            "[Epoch: 1/30]:   0%|          | 0/4 [00:00<?, ?it/s]/usr/local/lib/python3.10/dist-packages/torch/nn/modules/loss.py:538: UserWarning: Using a target size (torch.Size([32])) that is different to the input size (torch.Size([32, 1])). This will likely lead to incorrect results due to broadcasting. Please ensure they have the same size.\n",
            "  return F.mse_loss(input, target, reduction=self.reduction)\n",
            "[Epoch: 1/30]:   0%|          | 0/4 [00:00<?, ?it/s, avg_epoch_loss=1.0173]/usr/local/lib/python3.10/dist-packages/torch/nn/modules/loss.py:538: UserWarning: Using a target size (torch.Size([24])) that is different to the input size (torch.Size([24, 1])). This will likely lead to incorrect results due to broadcasting. Please ensure they have the same size.\n",
            "  return F.mse_loss(input, target, reduction=self.reduction)\n",
            "/usr/local/lib/python3.10/dist-packages/torch/nn/modules/loss.py:538: UserWarning: Using a target size (torch.Size([30])) that is different to the input size (torch.Size([30, 1])). This will likely lead to incorrect results due to broadcasting. Please ensure they have the same size.\n",
            "  return F.mse_loss(input, target, reduction=self.reduction)\n"
          ]
        },
        {
          "output_type": "stream",
          "name": "stdout",
          "text": [
            "Epoch [10/30]: loss train: 0.683, validation: 0.714\n"
          ]
        },
        {
          "output_type": "stream",
          "name": "stderr",
          "text": []
        },
        {
          "output_type": "stream",
          "name": "stdout",
          "text": [
            "Epoch [20/30]: loss train: 0.657, validation: 0.704\n"
          ]
        },
        {
          "output_type": "stream",
          "name": "stderr",
          "text": [
            "                                                                            "
          ]
        },
        {
          "output_type": "stream",
          "name": "stdout",
          "text": [
            "Epoch [30/30]: loss train: 0.671, validation: 0.723\n"
          ]
        },
        {
          "output_type": "stream",
          "name": "stderr",
          "text": [
            "\r"
          ]
        }
      ]
    },
    {
      "cell_type": "code",
      "source": [
        "\n",
        "\n",
        "\n",
        "fig, ax = plt.subplots(figsize=(8, 5))\n",
        "ax.plot(train_history, label=\"train_loss\")\n",
        "ax.plot(validation_history, label=\"validation_loss\")\n",
        "ax.set_title(\"train vs validation loss\")\n",
        "ax.set_ylabel('Loss')\n",
        "ax.set_xlabel('epochs')\n",
        "ax.grid()\n",
        "ax.legend(loc='upper right')"
      ],
      "metadata": {
        "colab": {
          "base_uri": "https://localhost:8080/",
          "height": 505
        },
        "id": "kAPNCN9-tsWo",
        "outputId": "47b184c9-d494-4d3f-d6bb-f97decbda1b3"
      },
      "execution_count": null,
      "outputs": [
        {
          "output_type": "execute_result",
          "data": {
            "text/plain": [
              "<matplotlib.legend.Legend at 0x7a7ca977e680>"
            ]
          },
          "metadata": {},
          "execution_count": 29
        },
        {
          "output_type": "display_data",
          "data": {
            "text/plain": [
              "<Figure size 800x500 with 1 Axes>"
            ],
            "image/png": "[encoded data removed]"
          },
          "metadata": {}
        }
      ]
    },
    {
      "cell_type": "code",
      "source": [],
      "metadata": {
        "colab": {
          "base_uri": "https://localhost:8080/"
        },
        "id": "PWe3r6B8xCe0",
        "outputId": "a4a4072d-ab14-4704-c251-372cf137bcc5"
      },
      "execution_count": null,
      "outputs": [
        {
          "output_type": "execute_result",
          "data": {
            "text/plain": [
              "torch.Size([24])"
            ]
          },
          "metadata": {},
          "execution_count": 119
        }
      ]
    },
    {
      "cell_type": "code",
      "source": [],
      "metadata": {
        "id": "oy9H6KsNxDPx"
      },
      "execution_count": null,
      "outputs": []
    }
  ]
}